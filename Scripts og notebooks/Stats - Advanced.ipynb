{
 "cells": [
  {
   "cell_type": "code",
   "execution_count": 1,
   "metadata": {},
   "outputs": [],
   "source": [
    "import scipy.stats as stats\n",
    "import numpy as np\n",
    "import matplotlib.pyplot as plt\n",
    "\n"
   ]
  },
  {
   "cell_type": "markdown",
   "metadata": {},
   "source": [
    "# Er der forskel??"
   ]
  },
  {
   "cell_type": "code",
   "execution_count": 3,
   "metadata": {},
   "outputs": [
    {
     "name": "stdout",
     "output_type": "stream",
     "text": [
      "Z-værdi: -2.738612787525831\n",
      "P-værdi: 0.0061698993205441255\n",
      "Forskellen er signifikant.\n"
     ]
    }
   ],
   "source": [
    "import math\n",
    "from scipy.stats import norm\n",
    "\n",
    "# Data\n",
    "p1 = 3 / 10  # Proportion for gruppe 1\n",
    "p2 = 9 / 10  # Proportion for gruppe 2\n",
    "n1 = 10  # Antal observationer i gruppe 1\n",
    "n2 = 10  # Antal observationer i gruppe 2\n",
    "\n",
    "# Beregn den samlede proportion\n",
    "P = (p1 * n1 + p2 * n2) / (n1 + n2)\n",
    "\n",
    "# Beregn standardfejlen for forskellen\n",
    "SE = math.sqrt(P * (1 - P) * (1/n1 + 1/n2))\n",
    "\n",
    "# Beregn Z-værdi\n",
    "Z = (p1 - p2) / SE\n",
    "\n",
    "# Beregn p-værdi (for 2-sidet test)\n",
    "p_value = 2 * (1 - norm.cdf(abs(Z)))\n",
    "\n",
    "print(f\"Z-værdi: {Z}\")\n",
    "print(f\"P-værdi: {p_value}\")\n",
    "\n",
    "# Tjek om p-værdien er signifikant (f.eks. 0.05 niveau)\n",
    "if p_value < 0.05:\n",
    "    print(\"Forskellen er signifikant.\")\n",
    "else:\n",
    "    print(\"Forskellen er ikke signifikant.\")\n"
   ]
  },
  {
   "cell_type": "code",
   "execution_count": 4,
   "metadata": {},
   "outputs": [
    {
     "name": "stdout",
     "output_type": "stream",
     "text": [
      "Z-værdi: 1.0259783520851535\n",
      "P-værdi: 0.30490178817878855\n",
      "Forskellen er ikke signifikant.\n"
     ]
    }
   ],
   "source": [
    "import math\n",
    "from scipy.stats import norm\n",
    "\n",
    "# Data\n",
    "p1 = 10 / 10  # Proportion for gruppe 1\n",
    "p2 = 9 / 10  # Proportion for gruppe 2\n",
    "n1 = 10  # Antal observationer i gruppe 1\n",
    "n2 = 10  # Antal observationer i gruppe 2\n",
    "\n",
    "# Beregn den samlede proportion\n",
    "P = (p1 * n1 + p2 * n2) / (n1 + n2)\n",
    "\n",
    "# Beregn standardfejlen for forskellen\n",
    "SE = math.sqrt(P * (1 - P) * (1/n1 + 1/n2))\n",
    "\n",
    "# Beregn Z-værdi\n",
    "Z = (p1 - p2) / SE\n",
    "\n",
    "# Beregn p-værdi (for 2-sidet test)\n",
    "p_value = 2 * (1 - norm.cdf(abs(Z)))\n",
    "\n",
    "print(f\"Z-værdi: {Z}\")\n",
    "print(f\"P-værdi: {p_value}\")\n",
    "\n",
    "# Tjek om p-værdien er signifikant (f.eks. 0.05 niveau)\n",
    "if p_value < 0.05:\n",
    "    print(\"Forskellen er signifikant.\")\n",
    "else:\n",
    "    print(\"Forskellen er ikke signifikant.\")"
   ]
  },
  {
   "cell_type": "markdown",
   "metadata": {},
   "source": [
    "# Ens Varians"
   ]
  },
  {
   "cell_type": "code",
   "execution_count": 32,
   "metadata": {},
   "outputs": [
    {
     "name": "stdout",
     "output_type": "stream",
     "text": [
      "Levene's test: stat=0.200, p-value=0.661\n",
      "Variansen er ikke signifikant forskellig (almindelig t-test kan bruges).\n"
     ]
    }
   ],
   "source": [
    "from scipy.stats import levene\n",
    "\n",
    "# Eksempeldata\n",
    "data1 = [593, \n",
    "    465, \n",
    "    529, \n",
    "    535, \n",
    "    532, \n",
    "    540, \n",
    "    560, \n",
    "    514, \n",
    "    484 \n",
    "]\n",
    "data2 = [404, \n",
    "    466, \n",
    "    449, \n",
    "    421, \n",
    "    405, \n",
    "    428, \n",
    "    474, \n",
    "    448, \n",
    "    464\n",
    "]\n",
    "\n",
    "# Levene's test\n",
    "stat, p_value = levene(data1, data2)\n",
    "print(f\"Levene's test: stat={stat:.3f}, p-value={p_value:.3f}\")\n",
    "\n",
    "# Fortolkning\n",
    "if p_value < 0.05:\n",
    "    print(\"Variansen er signifikant forskellig (brug Welch's t-test).\")\n",
    "else:\n",
    "    print(\"Variansen er ikke signifikant forskellig (almindelig t-test kan bruges).\")\n"
   ]
  },
  {
   "cell_type": "markdown",
   "metadata": {},
   "source": [
    "# SIMULATION"
   ]
  },
  {
   "cell_type": "code",
   "execution_count": 102,
   "metadata": {},
   "outputs": [
    {
     "name": "stdout",
     "output_type": "stream",
     "text": [
      "Eksempel på simuleringer for H₀:\n",
      "Gruppe 1 (H₀): [6 5 6 6 6 5 6 4 3 6]\n",
      "Gruppe 2 (H₀): [6 4 6 8 6 5 7 8 8 5]\n",
      "\n",
      "Eksempel på simuleringer for H₁:\n",
      "Gruppe 1 (H₁): [2 3 6 5 2 3 3 2 5 3]\n",
      "Gruppe 2 (H₁): [ 8 10  6 10 10  9 10  9 10 10] \n",
      "\n",
      "P-værdier for H₀ (nullhypotese): [1.         0.65309511 1.         0.32911399 1.         1.\n",
      " 0.63920743 0.06788915 0.02461876 0.65309511]\n",
      "P-værdier for H₁ (alternativhypotese): [7.29035809e-03 1.03201392e-03 1.00000000e+00 9.82327451e-03\n",
      " 2.60729633e-04 6.16989932e-03 1.03201392e-03 1.65369516e-03\n",
      " 9.82327451e-03 1.03201392e-03]\n",
      "Sandsynligheden for Type I-fejl (H₀ afvist, H₀ er sand): 0.0397\n",
      "Sandsynligheden for Type II-fejl (H₀ accepteret, H₁ er sand): 0.1747\n"
     ]
    }
   ],
   "source": [
    "import numpy as np\n",
    "import scipy.stats as stats\n",
    "\n",
    "np.random.seed(0)\n",
    "# Antal gentagelser i simuleringen\n",
    "n_simulations = 100000\n",
    "\n",
    "# Simulerede stikprøvestørrelser\n",
    "n = 10  # 10 observationer i hver gruppe\n",
    "\n",
    "# Succesrater for de to scenarier\n",
    "# Nullhypotesen (H₀) - ingen forskel: begge grupper har succesrate 0.6\n",
    "p_h0_group1 = 0.6\n",
    "p_h0_group2 = 0.6\n",
    "\n",
    "# Alternativhypotesen (H₁) - der er forskel: gruppe 1 har succesrate 0.3, gruppe 2 har 0.9\n",
    "p_h1_group1 = 0.3\n",
    "p_h1_group2 = 0.9\n",
    "\n",
    "# Simuler for begge scenarier\n",
    "def simulate_data(p_group1, p_group2, n, n_simulations):\n",
    "    # Simuler binære data for begge grupper\n",
    "    group1_successes = np.random.binomial(n, p_group1, n_simulations)\n",
    "    group2_successes = np.random.binomial(n, p_group2, n_simulations)\n",
    "    \n",
    "    return group1_successes, group2_successes\n",
    "\n",
    "# Simulere data for H₀ (nullhypotese) og H₁ (alternativhypotese)\n",
    "group1_h0, group2_h0 = simulate_data(p_h0_group1, p_h0_group2, n, n_simulations)\n",
    "group1_h1, group2_h1 = simulate_data(p_h1_group1, p_h1_group2, n, n_simulations)\n",
    "\n",
    "# Udskriv eksempel på de første 5 simuleringer for begge scenarier\n",
    "print(\"Eksempel på simuleringer for H₀:\")\n",
    "print(\"Gruppe 1 (H₀):\", group1_h0[:10])\n",
    "print(\"Gruppe 2 (H₀):\", group2_h0[:10])\n",
    "\n",
    "print(\"\\nEksempel på simuleringer for H₁:\")\n",
    "print(\"Gruppe 1 (H₁):\", group1_h1[:10])\n",
    "print(\"Gruppe 2 (H₁):\", group2_h1[:10], '\\n')\n",
    "\n",
    "def calculate_p_value(group1, group2, n):\n",
    "    # Beregn succesraterne for begge grupper\n",
    "    # hvor mange fik de i gennemsnit i hver gruppe\n",
    "    p1_hat = group1 / n\n",
    "    p2_hat = group2 / n\n",
    "    \n",
    "    # Samlet succesrate, altså hvad fik de i alt i gennemsnit\n",
    "    p_pool = (group1 + group2) / (2 * n)\n",
    "    \n",
    "    # Standardfejl også kalde SE\n",
    "    se = np.sqrt(p_pool * (1 - p_pool) * (2 / n))\n",
    "    \n",
    "    # Hvis standardfejl er 0, returner p-værdi 1 (indikerer ingen forskel) \n",
    "    # For at undgå division med 0 hvilket kommer til at skabe fejl\n",
    "    if se == 0:\n",
    "        return 1\n",
    "    \n",
    "    # Z-score\n",
    "    z = (p1_hat - p2_hat) / se\n",
    "    \n",
    "    # P-værdi (to-sidet test)\n",
    "    p_value = 2 * (1 - stats.norm.cdf(np.abs(z)))  # To-sidet test\n",
    "    return p_value\n",
    "\n",
    "# Beregn p-værdier for simuleringerne\n",
    "p_values_h0 = np.array([calculate_p_value(group1_h0[i], group2_h0[i], n) for i in range(n_simulations)])\n",
    "p_values_h1 = np.array([calculate_p_value(group1_h1[i], group2_h1[i], n) for i in range(n_simulations)])\n",
    "\n",
    "# Udskriv de første 10 p-værdier som eksempel\n",
    "print(\"P-værdier for H₀ (nullhypotese):\", p_values_h0[:10])\n",
    "print(\"P-værdier for H₁ (alternativhypotese):\", p_values_h1[:10])\n",
    "\n",
    "# Signifikansniveau\n",
    "alpha = 0.05\n",
    "\n",
    "# Beregn Type I-fejl (sandsynligheden for at afvise H₀, når H₀ er sand)\n",
    "# Tjekker hvor mange gange vi har afvist H0, altså hvor mange gange p-værdien på de grupper der har ens succesrate er under 0.05\n",
    "type_I_error = np.mean(p_values_h0 < alpha)\n",
    "\n",
    "# Udskriv Type I-fejlsandsynligheden\n",
    "# print('\\n', f\"Sandsynligheden for Type I-fejl (H₀ afvist, H₀ er sand): {type_I_error:.4f}\")\n",
    "\n",
    "\n",
    "# Add this function to calculate Type II error\n",
    "\n",
    "def calculate_type_II_error(p_values, alpha):\n",
    "    # Count how many times the null hypothesis is NOT rejected \n",
    "    # when it should be rejected (i.e., when the alternative hypothesis is true)\n",
    "    type_II_errors = np.mean(p_values >= alpha)\n",
    "    return type_II_errors\n",
    "\n",
    "# Calculate Type I and Type II errors\n",
    "alpha = 0.05\n",
    "\n",
    "# Type I error (probability of falsely rejecting H0 when H0 is true)\n",
    "# Tjekker hvor mange gange vi har accepteret H0 hvor H1 var sand, altså hvor mange gange p-værdien på de grupper der har ens succesrate er under 0.05\n",
    "type_I_error = np.mean(p_values_h0 < alpha)\n",
    "\n",
    "# Type II error (probability of failing to reject H0 when H1 is true)\n",
    "type_II_error = calculate_type_II_error(p_values_h1, alpha)\n",
    "\n",
    "# Print results\n",
    "print(f\"Sandsynligheden for Type I-fejl (H₀ afvist, H₀ er sand): {type_I_error:.4f}\")\n",
    "print(f\"Sandsynligheden for Type II-fejl (H₀ accepteret, H₁ er sand): {type_II_error:.4f}\")\n",
    "\n"
   ]
  },
  {
   "cell_type": "markdown",
   "metadata": {},
   "source": [
    "type I      |  er chancen for at konkludere der er en forskel selvom der ikke er en\n",
    "1 - type I  |  er chancen for ikke at konkludere en forskel når der heller ikke er en\n",
    "\n",
    "#########################################################################################\n",
    "\n",
    "type II     |  er chancen for ikke at identificere en forskel når der er en\n",
    "1 - type II |  er chancen for correct at identificere en forskel på de to"
   ]
  },
  {
   "attachments": {
    "image.png": {
     "image/png": "[encoded data removed]"
    }
   },
   "cell_type": "markdown",
   "metadata": {},
   "source": [
    "![image.png](attachment:image.png)"
   ]
  },
  {
   "cell_type": "markdown",
   "metadata": {},
   "source": [
    "Ikke Vigtig:"
   ]
  },
  {
   "cell_type": "code",
   "execution_count": null,
   "metadata": {},
   "outputs": [
    {
     "name": "stdout",
     "output_type": "stream",
     "text": [
      "Den nødvendige stikprøvestørrelse for at sammenligne de to proportioner er 82\n"
     ]
    }
   ],
   "source": [
    "import math\n",
    "import scipy.stats as stats\n",
    "\n",
    "# Parametre\n",
    "\n",
    "Z = stats.norm.ppf(0.95)  # Z-værdi for 95% konfidensinterval\n",
    "# Z = 1.96  # Z-værdi for 95% konfidensinterval\n",
    "p1 = 3 / 10  # Proportion for gruppe 1\n",
    "p2 = 9 / 10  # Proportion for gruppe 2\n",
    "E = 0.1  # Ønsket fejlmargin (5%)\n",
    "\n",
    "# Beregn stikprøvestørrelse\n",
    "n = (Z**2 * (p1 * (1 - p1) + p2 * (1 - p2))) / (E**2)\n",
    "n = math.ceil(n)  # Rund op til nærmeste heltal\n",
    "print(f\"Den nødvendige stikprøvestørrelse for at sammenligne de to proportioner er {n}\")\n"
   ]
  }
 ],
 "metadata": {
  "kernelspec": {
   "display_name": "base",
   "language": "python",
   "name": "python3"
  },
  "language_info": {
   "codemirror_mode": {
    "name": "ipython",
    "version": 3
   },
   "file_extension": ".py",
   "mimetype": "text/x-python",
   "name": "python",
   "nbconvert_exporter": "python",
   "pygments_lexer": "ipython3",
   "version": "3.11.10"
  }
 },
 "nbformat": 4,
 "nbformat_minor": 2
}
